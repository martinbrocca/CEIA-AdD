{
 "cells": [
  {
   "cell_type": "markdown",
   "id": "83636c0b",
   "metadata": {},
   "source": [
    "# CEIA - Análisis de Datos\n",
    "## Trabajo Práctico Número 2\n",
    "\n",
    "### Grupo: \n",
    "\n",
    "          - Martín A. Brocca \n",
    "          - Agustín A. Lopez Fredes \n",
    "\n",
    "Dataset seleccionado: [AirBnB Dataset](https://insideairbnb.com/get-the-data/)"
   ]
  },
  {
   "cell_type": "code",
   "execution_count": 399,
   "id": "8509ba88",
   "metadata": {},
   "outputs": [],
   "source": [
    "# importamos las librerías necesarias\n",
    "import pandas as pd\n",
    "import numpy as np\n",
    "import matplotlib.pyplot as plt\n",
    "import seaborn as sns\n",
    "import statsmodels.api as sm\n",
    "import geopandas as gpd\n",
    "from shapely.geometry import Point\n",
    "import missingno as msno\n",
    "\n"
   ]
  },
  {
   "cell_type": "markdown",
   "id": "8a43c825",
   "metadata": {},
   "source": [
    "#### El problema seleccionado cuenta con un dataset conformado por 7 archivos:\n",
    "| **Archivo**                | **Descripción**                                                                 |\n",
    "|------------------------|------------------------------------------------------------------------------|\n",
    "| Listing.csv.gz         | Listado detallado de inmuebles                                               |\n",
    "| Calendar.csv.gz        | Información detallada de fechas de reserva y ocupación                       |\n",
    "| Reviews.csv.gz         | Listado detallado de opiniones y valoraciones de usuarios                    |\n",
    "| Listing.csv            | Versión resumida del listado de inmuebles para facilitar visualizaciones     |\n",
    "| Neighbourhoods.csv     | Listado de barrios de la localidad                                           |\n",
    "| Neighbourhoods.geojson | Archivo GeoJson con los barrios de la localidad                              |\n",
    "\n",
    "\n",
    "El dataset corresponde a los últimos 12 meses a cierre de Enero 2025.\n",
    "\n",
    "Se utilizarán los archivos detallados para el EDA, como así también el archivo geojson para la representación gráfica de algunas conclusiones o reportes.\n"
   ]
  },
  {
   "cell_type": "code",
   "execution_count": 400,
   "id": "fd690df8",
   "metadata": {},
   "outputs": [],
   "source": [
    "#  URL para descargar todos los archivos que conforman el dataset\n",
    "data_base_url = \"https://data.insideairbnb.com/argentina/ciudad-aut%C3%B3noma-de-buenos-aires/buenos-aires/2025-01-29\"\n",
    "\n",
    "\n",
    "# Definimos los nombres de los archivos y sus correspondientes URLs\n",
    "data_files = {\n",
    "    \"df_listings_details\": \"/data/listings.csv.gz\",\n",
    "    \"df_reviews_details\": \"/data/reviews.csv.gz\",\n",
    "    \"df_calendar\": \"/data/calendar.csv.gz\",\n",
    "    \"df_listings\": \"/visualisations/listings.csv\",\n",
    "    \"df_reviews\": \"/visualisations/reviews.csv\",\n",
    "    \"df_neighbourhoods\": \"/visualisations/neighbourhoods.csv\",\n",
    "}\n",
    "\n",
    "\n",
    "# Carga directa de los archivos CSV desde la URL\n",
    "dfs = {\n",
    "    #name: pd.read_csv(base_url + filename, compression=\"gzip\" if filename.endswith(\".gz\") else None)\n",
    "    name: pd.read_csv(data_base_url + filename)\n",
    "    for name, filename in data_files.items()\n",
    "}\n",
    "# Carga del archivo GeoJSON\n",
    "dfs[\"df_neighbourhoods_geojson\"] = gpd.read_file(\n",
    "    data_base_url + \"/visualisations/neighbourhoods.geojson\"\n",
    ")\n"
   ]
  },
  {
   "cell_type": "code",
   "execution_count": 401,
   "id": "0cead6f7",
   "metadata": {},
   "outputs": [],
   "source": [
    "# Creación de las variables individuales.\n",
    "df_listings_details = dfs[\"df_listings_details\"]\n",
    "df_neighborhoods = dfs[\"df_neighbourhoods\"]\n",
    "df_reviews_details = dfs[\"df_reviews_details\"]\n",
    "df_calendar = dfs[\"df_calendar\"]"
   ]
  }
 ],
 "metadata": {
  "kernelspec": {
   "display_name": "ceia-analisis-de-datos-QTP77gc6-py3.11",
   "language": "python",
   "name": "python3"
  },
  "language_info": {
   "codemirror_mode": {
    "name": "ipython",
    "version": 3
   },
   "file_extension": ".py",
   "mimetype": "text/x-python",
   "name": "python",
   "nbconvert_exporter": "python",
   "pygments_lexer": "ipython3",
   "version": "3.11.0"
  }
 },
 "nbformat": 4,
 "nbformat_minor": 5
}
